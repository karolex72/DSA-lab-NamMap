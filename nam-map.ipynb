{
 "cells": [
  {
   "cell_type": "code",
   "execution_count": 1,
   "metadata": {
    "collapsed": false,
    "pycharm": {
     "is_executing": true,
     "name": "#%%\n"
    }
   },
   "outputs": [
    {
     "name": "stdout",
     "output_type": "stream",
     "text": [
      "^C\n",
      "\n",
      "Note: you may need to restart the kernel to use updated packages.\n",
      "\n",
      "Note: you may need to restart the kernel to use updated packages.\n",
      "\n",
      "Note: you may need to restart the kernel to use updated packages.\n"
     ]
    },
    {
     "name": "stderr",
     "output_type": "stream",
     "text": [
      "Warning: 'conda-forge' already in 'channels' list, moving to the top\n"
     ]
    },
    {
     "name": "stdout",
     "output_type": "stream",
     "text": [
      "\n",
      "Note: you may need to restart the kernel to use updated packages.\n"
     ]
    }
   ],
   "source": [
    "%conda create -n geo_env\n",
    "%conda activate geo_env\n",
    "%conda config --env --add channels conda-forge\n",
    "%conda config --env --set channel_priority strict"
   ]
  },
  {
   "cell_type": "code",
   "execution_count": 1,
   "metadata": {},
   "outputs": [
    {
     "name": "stdout",
     "output_type": "stream",
     "text": [
      "Collecting package metadata (current_repodata.json): ...working... done\n",
      "Solving environment: ...working... done\n",
      "\n",
      "# All requested packages already installed.\n",
      "\n",
      "Retrieving notices: ...working... done\n",
      "\n",
      "Note: you may need to restart the kernel to use updated packages.\n"
     ]
    }
   ],
   "source": [
    "%conda install python=3 matplotlib"
   ]
  },
  {
   "cell_type": "code",
   "execution_count": 2,
   "metadata": {
    "collapsed": false,
    "pycharm": {
     "is_executing": true,
     "name": "#%%\n"
    }
   },
   "outputs": [
    {
     "name": "stdout",
     "output_type": "stream",
     "text": [
      "Collecting package metadata (current_repodata.json): ...working... done\n",
      "Solving environment: ...working... done\n",
      "\n",
      "# All requested packages already installed.\n",
      "\n",
      "Retrieving notices: ...working... done\n",
      "\n",
      "Note: you may need to restart the kernel to use updated packages.\n"
     ]
    }
   ],
   "source": [
    "%conda install python=3 fiona"
   ]
  },
  {
   "cell_type": "code",
   "execution_count": 3,
   "metadata": {
    "collapsed": false,
    "pycharm": {
     "is_executing": true,
     "name": "#%%\n"
    }
   },
   "outputs": [
    {
     "name": "stdout",
     "output_type": "stream",
     "text": [
      "Collecting package metadata (current_repodata.json): ...working... done\n",
      "Solving environment: ...working... done\n",
      "\n",
      "# All requested packages already installed.\n",
      "\n",
      "Retrieving notices: ...working... done\n",
      "\n",
      "Note: you may need to restart the kernel to use updated packages.\n"
     ]
    }
   ],
   "source": [
    "%conda install python=3 shapely"
   ]
  },
  {
   "cell_type": "code",
   "execution_count": 4,
   "metadata": {
    "collapsed": false,
    "pycharm": {
     "is_executing": true,
     "name": "#%%\n"
    }
   },
   "outputs": [
    {
     "name": "stdout",
     "output_type": "stream",
     "text": [
      "Collecting package metadata (current_repodata.json): ...working... done\n",
      "Solving environment: ...working... done\n",
      "\n",
      "# All requested packages already installed.\n",
      "\n",
      "Retrieving notices: ...working... done\n",
      "\n",
      "Note: you may need to restart the kernel to use updated packages.\n"
     ]
    }
   ],
   "source": [
    "%conda install python=3 pyproj"
   ]
  },
  {
   "cell_type": "code",
   "execution_count": 5,
   "metadata": {
    "collapsed": false,
    "pycharm": {
     "is_executing": true,
     "name": "#%%\n"
    }
   },
   "outputs": [
    {
     "name": "stdout",
     "output_type": "stream",
     "text": [
      "Collecting package metadata (current_repodata.json): ...working... done\n",
      "Note: you may need to restart the kernel to use updated packages.\n",
      "\n",
      "Solving environment: ...working... done\n",
      "\n",
      "# All requested packages already installed.\n",
      "\n",
      "Retrieving notices: ...working... done\n"
     ]
    }
   ],
   "source": [
    "%conda install python=3 packaging"
   ]
  },
  {
   "cell_type": "code",
   "execution_count": 6,
   "metadata": {},
   "outputs": [
    {
     "name": "stdout",
     "output_type": "stream",
     "text": [
      "Collecting package metadata (current_repodata.json): ...working... done\n",
      "Note: you may need to restart the kernel to use updated packages.\n",
      "\n",
      "Solving environment: ...working... done\n",
      "\n",
      "## Package Plan ##\n",
      "\n",
      "  environment location: c:\\Users\\lxhaw\\anaconda3\\envs\\geo_env\n",
      "\n",
      "  added / updated specs:\n",
      "    - geopandas\n",
      "    - python=3\n",
      "\n",
      "\n",
      "The following packages will be downloaded:\n",
      "\n",
      "    package                    |            build\n",
      "    ---------------------------|-----------------\n",
      "    branca-0.5.0               |     pyhd8ed1ab_0          26 KB  conda-forge\n",
      "    brotlipy-0.7.0             |py310he2412df_1004         329 KB  conda-forge\n",
      "    cffi-1.15.1                |  py310hcbf9ad4_0         225 KB  conda-forge\n",
      "    charset-normalizer-2.1.1   |     pyhd8ed1ab_0          36 KB  conda-forge\n",
      "    cryptography-38.0.1        |  py310h52f42fa_0         1.1 MB  conda-forge\n",
      "    folium-0.13.0              |     pyhd8ed1ab_0          66 KB  conda-forge\n",
      "    geopandas-0.11.1           |     pyhd8ed1ab_0           6 KB  conda-forge\n",
      "    geopandas-base-0.11.1      |     pyha770c72_0         997 KB  conda-forge\n",
      "    idna-3.4                   |     pyhd8ed1ab_0          55 KB  conda-forge\n",
      "    jinja2-3.1.2               |     pyhd8ed1ab_1          99 KB  conda-forge\n",
      "    joblib-1.2.0               |     pyhd8ed1ab_0         205 KB  conda-forge\n",
      "    libspatialindex-1.9.3      |       h39d44d4_4         437 KB  conda-forge\n",
      "    mapclassify-2.4.3          |     pyhd8ed1ab_0          36 KB  conda-forge\n",
      "    markupsafe-2.1.1           |  py310he2412df_1          25 KB  conda-forge\n",
      "    networkx-2.8.7             |     pyhd8ed1ab_0         1.6 MB  conda-forge\n",
      "    pandas-1.5.0               |  py310h1c4a608_0        11.7 MB  conda-forge\n",
      "    pycparser-2.21             |     pyhd8ed1ab_0         100 KB  conda-forge\n",
      "    pyopenssl-22.0.0           |     pyhd8ed1ab_1         120 KB  conda-forge\n",
      "    pysocks-1.7.1              |     pyh0701188_6          19 KB  conda-forge\n",
      "    pytz-2022.4                |     pyhd8ed1ab_0         232 KB  conda-forge\n",
      "    requests-2.28.1            |     pyhd8ed1ab_1          53 KB  conda-forge\n",
      "    rtree-1.0.0                |  py310h1cbd46b_1          49 KB  conda-forge\n",
      "    scikit-learn-1.1.2         |  py310h3a564e9_0         7.5 MB  conda-forge\n",
      "    scipy-1.9.1                |  py310h578b7cb_0        28.2 MB  conda-forge\n",
      "    threadpoolctl-3.1.0        |     pyh8a188c0_0          18 KB  conda-forge\n",
      "    urllib3-1.26.11            |     pyhd8ed1ab_0         102 KB  conda-forge\n",
      "    win_inet_pton-1.1.0        |  py310h5588dad_4           9 KB  conda-forge\n",
      "    xyzservices-2022.9.0       |     pyhd8ed1ab_0          38 KB  conda-forge\n",
      "    ------------------------------------------------------------\n",
      "                                           Total:        53.2 MB\n",
      "\n",
      "The following NEW packages will be INSTALLED:\n",
      "\n",
      "  branca             conda-forge/noarch::branca-0.5.0-pyhd8ed1ab_0 None\n",
      "  brotlipy           conda-forge/win-64::brotlipy-0.7.0-py310he2412df_1004 None\n",
      "  cffi               conda-forge/win-64::cffi-1.15.1-py310hcbf9ad4_0 None\n",
      "  charset-normalizer conda-forge/noarch::charset-normalizer-2.1.1-pyhd8ed1ab_0 None\n",
      "  cryptography       conda-forge/win-64::cryptography-38.0.1-py310h52f42fa_0 None\n",
      "  folium             conda-forge/noarch::folium-0.13.0-pyhd8ed1ab_0 None\n",
      "  geopandas          conda-forge/noarch::geopandas-0.11.1-pyhd8ed1ab_0 None\n",
      "  geopandas-base     conda-forge/noarch::geopandas-base-0.11.1-pyha770c72_0 None\n",
      "  idna               conda-forge/noarch::idna-3.4-pyhd8ed1ab_0 None\n",
      "  jinja2             conda-forge/noarch::jinja2-3.1.2-pyhd8ed1ab_1 None\n",
      "  joblib             conda-forge/noarch::joblib-1.2.0-pyhd8ed1ab_0 None\n",
      "  libspatialindex    conda-forge/win-64::libspatialindex-1.9.3-h39d44d4_4 None\n",
      "  mapclassify        conda-forge/noarch::mapclassify-2.4.3-pyhd8ed1ab_0 None\n",
      "  markupsafe         conda-forge/win-64::markupsafe-2.1.1-py310he2412df_1 None\n",
      "  networkx           conda-forge/noarch::networkx-2.8.7-pyhd8ed1ab_0 None\n",
      "  pandas             conda-forge/win-64::pandas-1.5.0-py310h1c4a608_0 None\n",
      "  pycparser          conda-forge/noarch::pycparser-2.21-pyhd8ed1ab_0 None\n",
      "  pyopenssl          conda-forge/noarch::pyopenssl-22.0.0-pyhd8ed1ab_1 None\n",
      "  pysocks            conda-forge/noarch::pysocks-1.7.1-pyh0701188_6 None\n",
      "  pytz               conda-forge/noarch::pytz-2022.4-pyhd8ed1ab_0 None\n",
      "  requests           conda-forge/noarch::requests-2.28.1-pyhd8ed1ab_1 None\n",
      "  rtree              conda-forge/win-64::rtree-1.0.0-py310h1cbd46b_1 None\n",
      "  scikit-learn       conda-forge/win-64::scikit-learn-1.1.2-py310h3a564e9_0 None\n",
      "  scipy              conda-forge/win-64::scipy-1.9.1-py310h578b7cb_0 None\n",
      "  threadpoolctl      conda-forge/noarch::threadpoolctl-3.1.0-pyh8a188c0_0 None\n",
      "  urllib3            conda-forge/noarch::urllib3-1.26.11-pyhd8ed1ab_0 None\n",
      "  win_inet_pton      conda-forge/win-64::win_inet_pton-1.1.0-py310h5588dad_4 None\n",
      "  xyzservices        conda-forge/noarch::xyzservices-2022.9.0-pyhd8ed1ab_0 None\n",
      "\n",
      "\n",
      "\n",
      "Downloading and Extracting Packages\n",
      "\n",
      "networkx-2.8.7       | 1.6 MB    |            |   0% \n",
      "networkx-2.8.7       | 1.6 MB    | 1          |   1% \n",
      "networkx-2.8.7       | 1.6 MB    | 5          |   5% \n",
      "networkx-2.8.7       | 1.6 MB    | #7         |  17% \n",
      "networkx-2.8.7       | 1.6 MB    | ##6        |  26% \n",
      "networkx-2.8.7       | 1.6 MB    | ####5      |  45% \n",
      "networkx-2.8.7       | 1.6 MB    | #####7     |  57% \n",
      "networkx-2.8.7       | 1.6 MB    | #########7 |  97% \n",
      "networkx-2.8.7       | 1.6 MB    | ########## | 100% \n",
      "\n",
      "jinja2-3.1.2         | 99 KB     |            |   0% \n",
      "jinja2-3.1.2         | 99 KB     | ########   |  81% \n",
      "jinja2-3.1.2         | 99 KB     | ########## | 100% \n",
      "\n",
      "cryptography-38.0.1  | 1.1 MB    |            |   0% \n",
      "cryptography-38.0.1  | 1.1 MB    | 8          |   9% \n",
      "cryptography-38.0.1  | 1.1 MB    | ##3        |  23% \n",
      "cryptography-38.0.1  | 1.1 MB    | #####9     |  60% \n",
      "cryptography-38.0.1  | 1.1 MB    | ########## | 100% \n",
      "cryptography-38.0.1  | 1.1 MB    | ########## | 100% \n",
      "\n",
      "win_inet_pton-1.1.0  | 9 KB      |            |   0% \n",
      "win_inet_pton-1.1.0  | 9 KB      | ########## | 100% \n",
      "win_inet_pton-1.1.0  | 9 KB      | ########## | 100% \n",
      "\n",
      "urllib3-1.26.11      | 102 KB    |            |   0% \n",
      "urllib3-1.26.11      | 102 KB    | ####7      |  47% \n",
      "urllib3-1.26.11      | 102 KB    | ########## | 100% \n",
      "urllib3-1.26.11      | 102 KB    | ########## | 100% \n",
      "\n",
      "scikit-learn-1.1.2   | 7.5 MB    |            |   0% \n",
      "scikit-learn-1.1.2   | 7.5 MB    |            |   1% \n",
      "scikit-learn-1.1.2   | 7.5 MB    | 4          |   5% \n",
      "scikit-learn-1.1.2   | 7.5 MB    | #          |  11% \n",
      "scikit-learn-1.1.2   | 7.5 MB    | #6         |  16% \n",
      "scikit-learn-1.1.2   | 7.5 MB    | ##         |  20% \n",
      "scikit-learn-1.1.2   | 7.5 MB    | ##3        |  24% \n",
      "scikit-learn-1.1.2   | 7.5 MB    | ##8        |  28% \n",
      "scikit-learn-1.1.2   | 7.5 MB    | ###3       |  33% \n",
      "scikit-learn-1.1.2   | 7.5 MB    | ###8       |  39% \n",
      "scikit-learn-1.1.2   | 7.5 MB    | ####2      |  42% \n",
      "scikit-learn-1.1.2   | 7.5 MB    | ####6      |  47% \n",
      "scikit-learn-1.1.2   | 7.5 MB    | #####3     |  54% \n",
      "scikit-learn-1.1.2   | 7.5 MB    | #####8     |  59% \n",
      "scikit-learn-1.1.2   | 7.5 MB    | ######2    |  63% \n",
      "scikit-learn-1.1.2   | 7.5 MB    | ######9    |  70% \n",
      "scikit-learn-1.1.2   | 7.5 MB    | #######4   |  74% \n",
      "scikit-learn-1.1.2   | 7.5 MB    | #######9   |  80% \n",
      "scikit-learn-1.1.2   | 7.5 MB    | ########4  |  84% \n",
      "scikit-learn-1.1.2   | 7.5 MB    | ########8  |  88% \n",
      "scikit-learn-1.1.2   | 7.5 MB    | #########2 |  93% \n",
      "scikit-learn-1.1.2   | 7.5 MB    | ########## | 100% \n",
      "scikit-learn-1.1.2   | 7.5 MB    | ########## | 100% \n",
      "\n",
      "brotlipy-0.7.0       | 329 KB    |            |   0% \n",
      "brotlipy-0.7.0       | 329 KB    | 4          |   5% \n",
      "brotlipy-0.7.0       | 329 KB    | ########## | 100% \n",
      "brotlipy-0.7.0       | 329 KB    | ########## | 100% \n",
      "\n",
      "pycparser-2.21       | 100 KB    |            |   0% \n",
      "pycparser-2.21       | 100 KB    | #5         |  16% \n",
      "pycparser-2.21       | 100 KB    | ########## | 100% \n",
      "pycparser-2.21       | 100 KB    | ########## | 100% \n",
      "\n",
      "branca-0.5.0         | 26 KB     |            |   0% \n",
      "branca-0.5.0         | 26 KB     | ######     |  61% \n",
      "branca-0.5.0         | 26 KB     | ########## | 100% \n",
      "\n",
      "scipy-1.9.1          | 28.2 MB   |            |   0% \n",
      "scipy-1.9.1          | 28.2 MB   |            |   0% \n",
      "scipy-1.9.1          | 28.2 MB   |            |   1% \n",
      "scipy-1.9.1          | 28.2 MB   | 2          |   2% \n",
      "scipy-1.9.1          | 28.2 MB   | 4          |   4% \n",
      "scipy-1.9.1          | 28.2 MB   | 5          |   5% \n",
      "scipy-1.9.1          | 28.2 MB   | 6          |   6% \n",
      "scipy-1.9.1          | 28.2 MB   | 7          |   7% \n",
      "scipy-1.9.1          | 28.2 MB   | 8          |   9% \n",
      "scipy-1.9.1          | 28.2 MB   | 9          |  10% \n",
      "scipy-1.9.1          | 28.2 MB   | #1         |  11% \n",
      "scipy-1.9.1          | 28.2 MB   | #2         |  12% \n",
      "scipy-1.9.1          | 28.2 MB   | #3         |  13% \n",
      "scipy-1.9.1          | 28.2 MB   | #4         |  14% \n",
      "scipy-1.9.1          | 28.2 MB   | #5         |  16% \n",
      "scipy-1.9.1          | 28.2 MB   | #6         |  17% \n",
      "scipy-1.9.1          | 28.2 MB   | #8         |  18% \n",
      "scipy-1.9.1          | 28.2 MB   | #9         |  20% \n",
      "scipy-1.9.1          | 28.2 MB   | ##2        |  22% \n",
      "scipy-1.9.1          | 28.2 MB   | ##3        |  24% \n",
      "scipy-1.9.1          | 28.2 MB   | ##5        |  25% \n",
      "scipy-1.9.1          | 28.2 MB   | ##6        |  27% \n",
      "scipy-1.9.1          | 28.2 MB   | ##7        |  28% \n",
      "scipy-1.9.1          | 28.2 MB   | ##8        |  29% \n",
      "scipy-1.9.1          | 28.2 MB   | ###        |  30% \n",
      "scipy-1.9.1          | 28.2 MB   | ###1       |  32% \n",
      "scipy-1.9.1          | 28.2 MB   | ###2       |  33% \n",
      "scipy-1.9.1          | 28.2 MB   | ###4       |  34% \n",
      "scipy-1.9.1          | 28.2 MB   | ###5       |  35% \n",
      "scipy-1.9.1          | 28.2 MB   | ###7       |  37% \n",
      "scipy-1.9.1          | 28.2 MB   | ###8       |  39% \n",
      "scipy-1.9.1          | 28.2 MB   | ####       |  40% \n",
      "scipy-1.9.1          | 28.2 MB   | ####1      |  42% \n",
      "scipy-1.9.1          | 28.2 MB   | ####3      |  43% \n",
      "scipy-1.9.1          | 28.2 MB   | ####4      |  45% \n",
      "scipy-1.9.1          | 28.2 MB   | ####6      |  46% \n",
      "scipy-1.9.1          | 28.2 MB   | ####7      |  47% \n",
      "scipy-1.9.1          | 28.2 MB   | ####8      |  48% \n",
      "scipy-1.9.1          | 28.2 MB   | ####9      |  49% \n",
      "scipy-1.9.1          | 28.2 MB   | #####      |  51% \n",
      "scipy-1.9.1          | 28.2 MB   | #####1     |  52% \n",
      "scipy-1.9.1          | 28.2 MB   | #####2     |  53% \n",
      "scipy-1.9.1          | 28.2 MB   | #####3     |  54% \n",
      "scipy-1.9.1          | 28.2 MB   | #####4     |  55% \n",
      "scipy-1.9.1          | 28.2 MB   | #####5     |  56% \n",
      "scipy-1.9.1          | 28.2 MB   | #####6     |  57% \n",
      "scipy-1.9.1          | 28.2 MB   | #####8     |  58% \n",
      "scipy-1.9.1          | 28.2 MB   | #####9     |  60% \n",
      "scipy-1.9.1          | 28.2 MB   | ######1    |  62% \n",
      "scipy-1.9.1          | 28.2 MB   | ######3    |  63% \n",
      "scipy-1.9.1          | 28.2 MB   | ######4    |  64% \n",
      "scipy-1.9.1          | 28.2 MB   | ######5    |  66% \n",
      "scipy-1.9.1          | 28.2 MB   | ######6    |  67% \n",
      "scipy-1.9.1          | 28.2 MB   | ######9    |  69% \n",
      "scipy-1.9.1          | 28.2 MB   | #######    |  71% \n",
      "scipy-1.9.1          | 28.2 MB   | #######1   |  72% \n",
      "scipy-1.9.1          | 28.2 MB   | #######3   |  73% \n",
      "scipy-1.9.1          | 28.2 MB   | #######4   |  74% \n",
      "scipy-1.9.1          | 28.2 MB   | #######5   |  75% \n",
      "scipy-1.9.1          | 28.2 MB   | #######7   |  77% \n",
      "scipy-1.9.1          | 28.2 MB   | #######8   |  78% \n",
      "scipy-1.9.1          | 28.2 MB   | #######9   |  80% \n",
      "scipy-1.9.1          | 28.2 MB   | ########   |  81% \n",
      "scipy-1.9.1          | 28.2 MB   | ########2  |  83% \n",
      "scipy-1.9.1          | 28.2 MB   | ########4  |  84% \n",
      "scipy-1.9.1          | 28.2 MB   | ########5  |  85% \n",
      "scipy-1.9.1          | 28.2 MB   | ########6  |  86% \n",
      "scipy-1.9.1          | 28.2 MB   | ########7  |  87% \n",
      "scipy-1.9.1          | 28.2 MB   | ########8  |  89% \n",
      "scipy-1.9.1          | 28.2 MB   | ########9  |  90% \n",
      "scipy-1.9.1          | 28.2 MB   | #########  |  91% \n",
      "scipy-1.9.1          | 28.2 MB   | #########1 |  92% \n",
      "scipy-1.9.1          | 28.2 MB   | #########4 |  94% \n",
      "scipy-1.9.1          | 28.2 MB   | #########5 |  96% \n",
      "scipy-1.9.1          | 28.2 MB   | #########7 |  97% \n",
      "scipy-1.9.1          | 28.2 MB   | #########8 |  98% \n",
      "scipy-1.9.1          | 28.2 MB   | #########9 | 100% \n",
      "scipy-1.9.1          | 28.2 MB   | ########## | 100% \n",
      "\n",
      "pyopenssl-22.0.0     | 120 KB    |            |   0% \n",
      "pyopenssl-22.0.0     | 120 KB    | #3         |  13% \n",
      "pyopenssl-22.0.0     | 120 KB    | ########## | 100% \n",
      "pyopenssl-22.0.0     | 120 KB    | ########## | 100% \n",
      "\n",
      "pysocks-1.7.1        | 19 KB     |            |   0% \n",
      "pysocks-1.7.1        | 19 KB     | ########4  |  85% \n",
      "pysocks-1.7.1        | 19 KB     | ########## | 100% \n",
      "\n",
      "idna-3.4             | 55 KB     |            |   0% \n",
      "idna-3.4             | 55 KB     | ##8        |  29% \n",
      "idna-3.4             | 55 KB     | ########## | 100% \n",
      "\n",
      "rtree-1.0.0          | 49 KB     |            |   0% \n",
      "rtree-1.0.0          | 49 KB     | ###2       |  32% \n",
      "rtree-1.0.0          | 49 KB     | ########## | 100% \n",
      "\n",
      "folium-0.13.0        | 66 KB     |            |   0% \n",
      "folium-0.13.0        | 66 KB     | ##4        |  24% \n",
      "folium-0.13.0        | 66 KB     | ########## | 100% \n",
      "folium-0.13.0        | 66 KB     | ########## | 100% \n",
      "\n",
      "pytz-2022.4          | 232 KB    |            |   0% \n",
      "pytz-2022.4          | 232 KB    | 6          |   7% \n",
      "pytz-2022.4          | 232 KB    | ########2  |  83% \n",
      "pytz-2022.4          | 232 KB    | ########## | 100% \n",
      "\n",
      "mapclassify-2.4.3    | 36 KB     |            |   0% \n",
      "mapclassify-2.4.3    | 36 KB     | ####4      |  45% \n",
      "mapclassify-2.4.3    | 36 KB     | ########## | 100% \n",
      "\n",
      "requests-2.28.1      | 53 KB     |            |   0% \n",
      "requests-2.28.1      | 53 KB     | #########  |  90% \n",
      "requests-2.28.1      | 53 KB     | ########## | 100% \n",
      "\n",
      "geopandas-0.11.1     | 6 KB      |            |   0% \n",
      "geopandas-0.11.1     | 6 KB      | ########## | 100% \n",
      "geopandas-0.11.1     | 6 KB      | ########## | 100% \n",
      "\n",
      "libspatialindex-1.9. | 437 KB    |            |   0% \n",
      "libspatialindex-1.9. | 437 KB    | 3          |   4% \n",
      "libspatialindex-1.9. | 437 KB    | #####8     |  59% \n",
      "libspatialindex-1.9. | 437 KB    | #########1 |  92% \n",
      "libspatialindex-1.9. | 437 KB    | ########## | 100% \n",
      "\n",
      "xyzservices-2022.9.0 | 38 KB     |            |   0% \n",
      "xyzservices-2022.9.0 | 38 KB     | ####2      |  42% \n",
      "xyzservices-2022.9.0 | 38 KB     | ########4  |  84% \n",
      "xyzservices-2022.9.0 | 38 KB     | ########## | 100% \n",
      "\n",
      "joblib-1.2.0         | 205 KB    |            |   0% \n",
      "joblib-1.2.0         | 205 KB    | ##3        |  23% \n",
      "joblib-1.2.0         | 205 KB    | ####6      |  47% \n",
      "joblib-1.2.0         | 205 KB    | ########## | 100% \n",
      "joblib-1.2.0         | 205 KB    | ########## | 100% \n",
      "\n",
      "geopandas-base-0.11. | 997 KB    |            |   0% \n",
      "geopandas-base-0.11. | 997 KB    | 1          |   2% \n",
      "geopandas-base-0.11. | 997 KB    | #9         |  19% \n",
      "geopandas-base-0.11. | 997 KB    | ####3      |  43% \n",
      "geopandas-base-0.11. | 997 KB    | #####4     |  55% \n",
      "geopandas-base-0.11. | 997 KB    | ######5    |  66% \n",
      "geopandas-base-0.11. | 997 KB    | ########8  |  88% \n",
      "geopandas-base-0.11. | 997 KB    | ########## | 100% \n",
      "geopandas-base-0.11. | 997 KB    | ########## | 100% \n",
      "\n",
      "markupsafe-2.1.1     | 25 KB     |            |   0% \n",
      "markupsafe-2.1.1     | 25 KB     | ######3    |  64% \n",
      "markupsafe-2.1.1     | 25 KB     | ########## | 100% \n",
      "\n",
      "cffi-1.15.1          | 225 KB    |            |   0% \n",
      "cffi-1.15.1          | 225 KB    | 7          |   7% \n",
      "cffi-1.15.1          | 225 KB    | ##8        |  28% \n",
      "cffi-1.15.1          | 225 KB    | ########## | 100% \n",
      "\n",
      "charset-normalizer-2 | 36 KB     |            |   0% \n",
      "charset-normalizer-2 | 36 KB     | ####4      |  45% \n",
      "charset-normalizer-2 | 36 KB     | ########## | 100% \n",
      "\n",
      "threadpoolctl-3.1.0  | 18 KB     |            |   0% \n",
      "threadpoolctl-3.1.0  | 18 KB     | ########## | 100% \n",
      "threadpoolctl-3.1.0  | 18 KB     | ########## | 100% \n",
      "\n",
      "pandas-1.5.0         | 11.7 MB   |            |   0% \n",
      "pandas-1.5.0         | 11.7 MB   |            |   0% \n",
      "pandas-1.5.0         | 11.7 MB   | 2          |   2% \n",
      "pandas-1.5.0         | 11.7 MB   | 3          |   3% \n",
      "pandas-1.5.0         | 11.7 MB   | 4          |   5% \n",
      "pandas-1.5.0         | 11.7 MB   | 6          |   6% \n",
      "pandas-1.5.0         | 11.7 MB   | 9          |   9% \n",
      "pandas-1.5.0         | 11.7 MB   | #          |  11% \n",
      "pandas-1.5.0         | 11.7 MB   | #2         |  13% \n",
      "pandas-1.5.0         | 11.7 MB   | #5         |  16% \n",
      "pandas-1.5.0         | 11.7 MB   | #7         |  18% \n",
      "pandas-1.5.0         | 11.7 MB   | ##         |  21% \n",
      "pandas-1.5.0         | 11.7 MB   | ##3        |  23% \n",
      "pandas-1.5.0         | 11.7 MB   | ##5        |  25% \n",
      "pandas-1.5.0         | 11.7 MB   | ##7        |  28% \n",
      "pandas-1.5.0         | 11.7 MB   | ##9        |  30% \n",
      "pandas-1.5.0         | 11.7 MB   | ###1       |  32% \n",
      "pandas-1.5.0         | 11.7 MB   | ###4       |  34% \n",
      "pandas-1.5.0         | 11.7 MB   | ###7       |  38% \n",
      "pandas-1.5.0         | 11.7 MB   | ####1      |  42% \n",
      "pandas-1.5.0         | 11.7 MB   | ####4      |  44% \n",
      "pandas-1.5.0         | 11.7 MB   | ####6      |  47% \n",
      "pandas-1.5.0         | 11.7 MB   | ####9      |  49% \n",
      "pandas-1.5.0         | 11.7 MB   | #####1     |  52% \n",
      "pandas-1.5.0         | 11.7 MB   | #####5     |  56% \n",
      "pandas-1.5.0         | 11.7 MB   | #####8     |  58% \n",
      "pandas-1.5.0         | 11.7 MB   | ######1    |  62% \n",
      "pandas-1.5.0         | 11.7 MB   | ######6    |  67% \n",
      "pandas-1.5.0         | 11.7 MB   | #######    |  70% \n",
      "pandas-1.5.0         | 11.7 MB   | #######3   |  73% \n",
      "pandas-1.5.0         | 11.7 MB   | #######6   |  76% \n",
      "pandas-1.5.0         | 11.7 MB   | #######8   |  79% \n",
      "pandas-1.5.0         | 11.7 MB   | ########1  |  81% \n",
      "pandas-1.5.0         | 11.7 MB   | ########4  |  84% \n",
      "pandas-1.5.0         | 11.7 MB   | ########7  |  87% \n",
      "pandas-1.5.0         | 11.7 MB   | #########1 |  91% \n",
      "pandas-1.5.0         | 11.7 MB   | #########5 |  95% \n",
      "pandas-1.5.0         | 11.7 MB   | #########7 |  98% \n",
      "pandas-1.5.0         | 11.7 MB   | ########## | 100% \n",
      "Preparing transaction: ...working... done\n",
      "Verifying transaction: ...working... done\n",
      "Executing transaction: ...working... done\n",
      "Retrieving notices: ...working... done\n"
     ]
    }
   ],
   "source": [
    "%conda install python=3 geopandas"
   ]
  },
  {
   "cell_type": "code",
   "execution_count": 7,
   "metadata": {
    "collapsed": false,
    "pycharm": {
     "name": "#%%\n"
    }
   },
   "outputs": [
    {
     "data": {
      "image/png": "[encoded data removed]",
      "text/plain": [
       "<Figure size 640x480 with 1 Axes>"
      ]
     },
     "metadata": {},
     "output_type": "display_data"
    }
   ],
   "source": [
    "import matplotlib.pyplot as plt\n",
    "import geopandas\n",
    "\n",
    "world = geopandas.read_file(geopandas.datasets.get_path('naturalearth_lowres'))\n",
    "ax = world[world.name=='Namibia'].plot()\n",
    "\n",
    "plt.show()"
   ]
  },
  {
   "cell_type": "code",
   "execution_count": null,
   "metadata": {
    "collapsed": false,
    "pycharm": {
     "name": "#%%\n"
    }
   },
   "outputs": [],
   "source": []
  }
 ],
 "metadata": {
  "kernelspec": {
   "display_name": "Python 3.10.6 ('geo_env')",
   "language": "python",
   "name": "python3"
  },
  "language_info": {
   "codemirror_mode": {
    "name": "ipython",
    "version": 3
   },
   "file_extension": ".py",
   "mimetype": "text/x-python",
   "name": "python",
   "nbconvert_exporter": "python",
   "pygments_lexer": "ipython3",
   "version": "3.10.6"
  },
  "orig_nbformat": 4,
  "vscode": {
   "interpreter": {
    "hash": "7fea1dba5195bf83588bc444c3af48cd6e19f8592c36c4e148e3f0cf52d4c7fb"
   }
  }
 },
 "nbformat": 4,
 "nbformat_minor": 2
}
