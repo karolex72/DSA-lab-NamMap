{
 "cells": [
  {
   "cell_type": "code",
   "execution_count": 4,
   "metadata": {},
   "outputs": [],
   "source": [
    "%conda create -n geo_env\n",
    "%conda activate geo_env\n",
    "%conda config --env --add channels conda-forge\n",
    "%conda config --env --set channel_priority strict\n",
    "%conda install python=3 geopandas"
   ]
  },
  {
   "cell_type": "code",
   "execution_count": 1,
   "metadata": {},
   "outputs": [
    {
     "ename": "ImportError",
     "evalue": "the 'read_file' function requires the 'fiona' package, but it is not installed or does not import correctly.\nImporting fiona resulted in: DLL load failed while importing ogrext: The specified module could not be found.",
     "output_type": "error",
     "traceback": [
      "\u001b[1;31m---------------------------------------------------------------------------\u001b[0m",
      "\u001b[1;31mImportError\u001b[0m                               Traceback (most recent call last)",
      "\u001b[1;32mc:\\Users\\lxhaw\\Documents\\GitHub\\DSA-lab-NamMap\\nam-map.ipynb Cell 2\u001b[0m in \u001b[0;36m<cell line: 4>\u001b[1;34m()\u001b[0m\n\u001b[0;32m      <a href='vscode-notebook-cell:/c%3A/Users/lxhaw/Documents/GitHub/DSA-lab-NamMap/nam-map.ipynb#W2sZmlsZQ%3D%3D?line=0'>1</a>\u001b[0m \u001b[39mimport\u001b[39;00m \u001b[39mmatplotlib\u001b[39;00m\u001b[39m.\u001b[39;00m\u001b[39mpyplot\u001b[39;00m \u001b[39mas\u001b[39;00m \u001b[39mplt\u001b[39;00m\n\u001b[0;32m      <a href='vscode-notebook-cell:/c%3A/Users/lxhaw/Documents/GitHub/DSA-lab-NamMap/nam-map.ipynb#W2sZmlsZQ%3D%3D?line=1'>2</a>\u001b[0m \u001b[39mimport\u001b[39;00m \u001b[39mgeopandas\u001b[39;00m\n\u001b[1;32m----> <a href='vscode-notebook-cell:/c%3A/Users/lxhaw/Documents/GitHub/DSA-lab-NamMap/nam-map.ipynb#W2sZmlsZQ%3D%3D?line=3'>4</a>\u001b[0m world \u001b[39m=\u001b[39m geopandas\u001b[39m.\u001b[39;49mread_file(geopandas\u001b[39m.\u001b[39;49mdatasets\u001b[39m.\u001b[39;49mget_path(\u001b[39m'\u001b[39;49m\u001b[39mnaturalearth_lowres\u001b[39;49m\u001b[39m'\u001b[39;49m))\n\u001b[0;32m      <a href='vscode-notebook-cell:/c%3A/Users/lxhaw/Documents/GitHub/DSA-lab-NamMap/nam-map.ipynb#W2sZmlsZQ%3D%3D?line=4'>5</a>\u001b[0m ax \u001b[39m=\u001b[39m world[world\u001b[39m.\u001b[39mname\u001b[39m==\u001b[39m\u001b[39m'\u001b[39m\u001b[39mNamibia\u001b[39m\u001b[39m'\u001b[39m]\u001b[39m.\u001b[39mplot()\n\u001b[0;32m      <a href='vscode-notebook-cell:/c%3A/Users/lxhaw/Documents/GitHub/DSA-lab-NamMap/nam-map.ipynb#W2sZmlsZQ%3D%3D?line=6'>7</a>\u001b[0m plt\u001b[39m.\u001b[39mshow()\n",
      "File \u001b[1;32mc:\\Users\\lxhaw\\anaconda3\\lib\\site-packages\\geopandas\\io\\file.py:127\u001b[0m, in \u001b[0;36m_read_file\u001b[1;34m(filename, bbox, mask, rows, **kwargs)\u001b[0m\n\u001b[0;32m     66\u001b[0m \u001b[39mdef\u001b[39;00m \u001b[39m_read_file\u001b[39m(filename, bbox\u001b[39m=\u001b[39m\u001b[39mNone\u001b[39;00m, mask\u001b[39m=\u001b[39m\u001b[39mNone\u001b[39;00m, rows\u001b[39m=\u001b[39m\u001b[39mNone\u001b[39;00m, \u001b[39m*\u001b[39m\u001b[39m*\u001b[39mkwargs):\n\u001b[0;32m     67\u001b[0m     \u001b[39m\"\"\"\u001b[39;00m\n\u001b[0;32m     68\u001b[0m \u001b[39m    Returns a GeoDataFrame from a file or URL.\u001b[39;00m\n\u001b[0;32m     69\u001b[0m \n\u001b[1;32m   (...)\u001b[0m\n\u001b[0;32m    125\u001b[0m \u001b[39m    by using the encoding keyword parameter, e.g. ``encoding='utf-8'``.\u001b[39;00m\n\u001b[0;32m    126\u001b[0m \u001b[39m    \"\"\"\u001b[39;00m\n\u001b[1;32m--> 127\u001b[0m     _check_fiona(\u001b[39m\"\u001b[39;49m\u001b[39m'\u001b[39;49m\u001b[39mread_file\u001b[39;49m\u001b[39m'\u001b[39;49m\u001b[39m function\u001b[39;49m\u001b[39m\"\u001b[39;49m)\n\u001b[0;32m    128\u001b[0m     \u001b[39mif\u001b[39;00m _is_url(filename):\n\u001b[0;32m    129\u001b[0m         req \u001b[39m=\u001b[39m _urlopen(filename)\n",
      "File \u001b[1;32mc:\\Users\\lxhaw\\anaconda3\\lib\\site-packages\\geopandas\\io\\file.py:42\u001b[0m, in \u001b[0;36m_check_fiona\u001b[1;34m(func)\u001b[0m\n\u001b[0;32m     40\u001b[0m \u001b[39mdef\u001b[39;00m \u001b[39m_check_fiona\u001b[39m(func):\n\u001b[0;32m     41\u001b[0m     \u001b[39mif\u001b[39;00m fiona \u001b[39mis\u001b[39;00m \u001b[39mNone\u001b[39;00m:\n\u001b[1;32m---> 42\u001b[0m         \u001b[39mraise\u001b[39;00m \u001b[39mImportError\u001b[39;00m(\n\u001b[0;32m     43\u001b[0m             \u001b[39mf\u001b[39m\u001b[39m\"\u001b[39m\u001b[39mthe \u001b[39m\u001b[39m{\u001b[39;00mfunc\u001b[39m}\u001b[39;00m\u001b[39m requires the \u001b[39m\u001b[39m'\u001b[39m\u001b[39mfiona\u001b[39m\u001b[39m'\u001b[39m\u001b[39m package, but it is not installed or does \u001b[39m\u001b[39m\"\u001b[39m\n\u001b[0;32m     44\u001b[0m             \u001b[39mf\u001b[39m\u001b[39m\"\u001b[39m\u001b[39mnot import correctly.\u001b[39m\u001b[39m\\n\u001b[39;00m\u001b[39mImporting fiona resulted in: \u001b[39m\u001b[39m{\u001b[39;00mfiona_import_error\u001b[39m}\u001b[39;00m\u001b[39m\"\u001b[39m\n\u001b[0;32m     45\u001b[0m         )\n",
      "\u001b[1;31mImportError\u001b[0m: the 'read_file' function requires the 'fiona' package, but it is not installed or does not import correctly.\nImporting fiona resulted in: DLL load failed while importing ogrext: The specified module could not be found."
     ]
    }
   ],
   "source": [
    "import matplotlib.pyplot as plt\n",
    "import geopandas\n",
    "\n",
    "world = geopandas.read_file(geopandas.datasets.get_path('naturalearth_lowres'))\n",
    "ax = world[world.name=='Namibia'].plot()\n",
    "\n",
    "plt.show()"
   ]
  }
 ],
 "metadata": {
  "kernelspec": {
   "display_name": "Python 3.9.12 ('base')",
   "language": "python",
   "name": "python3"
  },
  "language_info": {
   "codemirror_mode": {
    "name": "ipython",
    "version": 3
   },
   "file_extension": ".py",
   "mimetype": "text/x-python",
   "name": "python",
   "nbconvert_exporter": "python",
   "pygments_lexer": "ipython3",
   "version": "3.9.12"
  },
  "orig_nbformat": 4,
  "vscode": {
   "interpreter": {
    "hash": "bde5fa33adeb74d6a6de09a212fb599c5ecdad55a87ddf1ef750dff2a6a117c7"
   }
  }
 },
 "nbformat": 4,
 "nbformat_minor": 2
}
